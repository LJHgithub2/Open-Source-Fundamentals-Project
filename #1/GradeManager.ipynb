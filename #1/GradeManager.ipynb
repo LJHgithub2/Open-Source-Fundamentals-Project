{
 "cells": [
  {
   "cell_type": "markdown",
   "metadata": {},
   "source": [
    "# 오픈소스 기초프로젝트 과제#1 \n",
    "- 충북대학교 소프트웨어학과 2017038088 이종현\n",
    "- 2024-03-20\n",
    "- 프로그램: 5명의 학생의 세개의 교과목 (영어, C-언어, 파이썬)에 대하여 키보드로부터 입력받아 총점, 평균, 학점, 등수를 계산하는 프로그램 작성\n",
    "- 입력 예시\n",
    "    - 이종현 2017038088\n",
    "        - 80 90 100\n",
    "    - 호수준 2023038045\n",
    "        - 69 40 20\n",
    "    - 김정연 2022038039\n",
    "        - 79 55 90\n",
    "    - 홍성준 2020038200\n",
    "        - 90 100 100\n",
    "    - 황다인 2019038088\n",
    "        - 70 50 30"
   ]
  },
  {
   "cell_type": "code",
   "execution_count": 82,
   "metadata": {},
   "outputs": [],
   "source": [
    "def grade_(avg):\n",
    "    if avg >= 90:\n",
    "        return \"A\"\n",
    "    elif avg >= 80:\n",
    "        return \"B\"\n",
    "    elif avg >= 70:\n",
    "        return \"C\"\n",
    "    elif avg >=60:\n",
    "        return \"D\"\n",
    "    else:\n",
    "        return \"F\""
   ]
  },
  {
   "cell_type": "code",
   "execution_count": 85,
   "metadata": {},
   "outputs": [
    {
     "name": "stdout",
     "output_type": "stream",
     "text": [
      "이종현 학생 영어 점수:80, c-언어 점수:90, 파이썬 점수100\n",
      "호수준 학생 영어 점수:69, c-언어 점수:40, 파이썬 점수20\n",
      "김정연 학생 영어 점수:79, c-언어 점수:55, 파이썬 점수90\n",
      "홍성준 학생 영어 점수:90, c-언어 점수:100, 파이썬 점수100\n",
      "황다인 학생 영어 점수:70, c-언어 점수:50, 파이썬 점수30\n",
      "홍성준 학생 총점=290, 평균=96.00, 학점=A, 등수=1\n",
      "이종현 학생 총점=270, 평균=90.00, 학점=A, 등수=2\n",
      "김정연 학생 총점=224, 평균=74.00, 학점=C, 등수=3\n",
      "황다인 학생 총점=150, 평균=50.00, 학점=F, 등수=4\n",
      "호수준 학생 총점=129, 평균=43.00, 학점=F, 등수=5\n"
     ]
    }
   ],
   "source": [
    "score = list()\n",
    "for i in range(5):\n",
    "    student_info = input(\"이름과 학번을 입력하세요 (예: 이종현 2017038088): \").split()\n",
    "    name = student_info[0]\n",
    "    scores = list(map(int, input(f\"{name} 학생의 영어, C-언어, 파이썬 점수를 입력하시오 (예: 80 90 70): \").split()))\n",
    "    print(f\"{name} 학생 영어 점수:{scores[0]}, c-언어 점수:{scores[1]}, 파이썬 점수:{scores[2]}\")\n",
    "    total_score = sum(scores)\n",
    "    average_score = int(total_score / len(scores))\n",
    "    grade = grade_(average_score)\n",
    "    score.append([name, student_info[1], *scores, total_score, average_score, grade])\n",
    "\n",
    "score.sort(key=lambda x: x[-2], reverse=True)\n",
    "for index, item in enumerate(score):\n",
    "    print(f\"{item[0]} 학생 총점={item[-3]}, 평균={item[-2]:.2f}, 학점={item[-1]}, 등수={index + 1}\")\n"
   ]
  }
 ],
 "metadata": {
  "kernelspec": {
   "display_name": "VISION",
   "language": "python",
   "name": "python3"
  },
  "language_info": {
   "codemirror_mode": {
    "name": "ipython",
    "version": 3
   },
   "file_extension": ".py",
   "mimetype": "text/x-python",
   "name": "python",
   "nbconvert_exporter": "python",
   "pygments_lexer": "ipython3",
   "version": "3.11.7"
  }
 },
 "nbformat": 4,
 "nbformat_minor": 2
}
